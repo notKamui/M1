{
 "cells": [
  {
   "cell_type": "markdown",
   "metadata": {},
   "source": [
    "# TD5"
   ]
  },
  {
   "cell_type": "code",
   "execution_count": 4,
   "metadata": {},
   "outputs": [],
   "source": [
    "from itertools import *"
   ]
  },
  {
   "cell_type": "markdown",
   "metadata": {},
   "source": [
    "## Exercice 1"
   ]
  },
  {
   "cell_type": "code",
   "execution_count": 35,
   "metadata": {},
   "outputs": [
    {
     "name": "stdout",
     "output_type": "stream",
     "text": [
      "number of queens\n",
      "8\n",
      "Q.......\n",
      "....Q...\n",
      ".......Q\n",
      ".....Q..\n",
      "..Q.....\n",
      "......Q.\n",
      ".Q......\n",
      "...Q....\n",
      "===\n"
     ]
    }
   ],
   "source": [
    "print (\"number of queens\")\n",
    "n = int(input())\n",
    "\n",
    "cols = range(n)\n",
    "for vec in permutations(cols):\n",
    "    if (n ==len(set(vec[i]+i for i in cols)) == len(set(vec[i]-i for i in cols))):\n",
    "        print (\"\\n\".join('.' * i + 'Q' + '.' * (n-i-1) for i in vec), end = \"\\n===\\n\")\n",
    "        break"
   ]
  },
  {
   "cell_type": "markdown",
   "metadata": {},
   "source": [
    "## Exercice 2"
   ]
  },
  {
   "cell_type": "code",
   "execution_count": 99,
   "metadata": {},
   "outputs": [],
   "source": [
    "nums = \"0123456789\"\n",
    "alpha = \"ABCDEFGHIJKLMNOPQRSTUVWXYZ\"\n",
    "\n",
    "def solve(equation):\n",
    "    letters = ''.join(set(filter(str.isalpha, equation)))\n",
    "    if len(letters) > 10:\n",
    "        print(\"Unsolvable\")\n",
    "        return\n",
    "    perms = permutations(list(nums), 8)\n",
    "    for perm in perms:\n",
    "        trans = equation.maketrans(letters, ''.join(perm))\n",
    "        treq = equation.translate(trans)\n",
    "        try:\n",
    "            if eval(treq):\n",
    "                print(treq)\n",
    "                break\n",
    "        except Exception:\n",
    "            pass\n",
    "        "
   ]
  },
  {
   "cell_type": "code",
   "execution_count": 100,
   "metadata": {},
   "outputs": [
    {
     "name": "stdout",
     "output_type": "stream",
     "text": [
      "9567 + 1085 == 10652\n"
     ]
    }
   ],
   "source": [
    "solve(\"SEND + MORE == MONEY\")"
   ]
  },
  {
   "cell_type": "code",
   "execution_count": null,
   "metadata": {},
   "outputs": [],
   "source": []
  }
 ],
 "metadata": {
  "kernelspec": {
   "display_name": "Python 3",
   "language": "python",
   "name": "python3"
  },
  "language_info": {
   "codemirror_mode": {
    "name": "ipython",
    "version": 3
   },
   "file_extension": ".py",
   "mimetype": "text/x-python",
   "name": "python",
   "nbconvert_exporter": "python",
   "pygments_lexer": "ipython3",
   "version": "3.7.3"
  }
 },
 "nbformat": 4,
 "nbformat_minor": 2
}
