{
 "cells": [
  {
   "cell_type": "markdown",
   "metadata": {},
   "source": [
    "# TD4"
   ]
  },
  {
   "cell_type": "markdown",
   "metadata": {},
   "source": [
    "## Exercice 1"
   ]
  },
  {
   "cell_type": "code",
   "execution_count": 25,
   "metadata": {},
   "outputs": [
    {
     "name": "stdout",
     "output_type": "stream",
     "text": [
      "/images/site/logoigm.gif\n",
      "/images/site/titre-petit.jpg\n",
      "/images/site/barre.gif\n",
      "/images/site/logoCNRS.jpg\n",
      "thibon.gif\n",
      "mail.gif\n",
      "iuf.gif\n",
      "http://scholar.google.com/scholar/scholar_sm.gif\n"
     ]
    }
   ],
   "source": [
    "from urllib.request import urlopen\n",
    "from html.parser import HTMLParser\n",
    "\n",
    "class MyHTMLParser(HTMLParser):\n",
    "    def handle_starttag(self, tag, attrs):\n",
    "        if tag == 'img':\n",
    "            for key, value in attrs:\n",
    "                if key == 'src':\n",
    "                    print(value)\n",
    "            \n",
    "parser = MyHTMLParser()\n",
    "\n",
    "s = urlopen('http://www-igm.univ-mlv.fr/~jyt/').read().decode('utf8')\n",
    "parser.feed(s)"
   ]
  },
  {
   "cell_type": "markdown",
   "metadata": {},
   "source": [
    "## Exercice 2"
   ]
  },
  {
   "cell_type": "code",
   "execution_count": 20,
   "metadata": {},
   "outputs": [
    {
     "name": "stdout",
     "output_type": "stream",
     "text": [
      "['__', 'help', 'jure', 'system.listMethods', 'system.methodHelp', 'system.methodSignature', 'tous_les_jurons']\n",
      "Q2F0YXBsYXNtZQo=\n"
     ]
    }
   ],
   "source": [
    "from xmlrpc.client import ServerProxy\n",
    "\n",
    "with ServerProxy(\"http://monge.univ-mlv.fr:8888\") as proxy:\n",
    "    print(proxy.system.listMethods())\n",
    "    print(proxy.jure())\n",
    "    # print(proxy.tous_les_jurons())"
   ]
  },
  {
   "cell_type": "markdown",
   "metadata": {},
   "source": [
    "```py\n",
    "from xmlrpc.server import SimpleXMLRPCServer\n",
    "import random\n",
    "\n",
    "jurons = [\"Truc\", \"machin\", \"bla\", \"blo\"]\n",
    "\n",
    "def jure():\n",
    "    return random.choices(jurons)\n",
    "\n",
    "def tous_les_jurons():\n",
    "    return \"\\n\".join(jurons)\n",
    "\n",
    "server = SimpleXMLRPCServer((\"localhost\", 8080))\n",
    "print(\"Listening on port 8080...\")\n",
    "server.register_function(jure, \"jure\")\n",
    "server.register_function(tous_les_jurons, \"tous_les_jurons\")\n",
    "server.serve_forever()\n",
    "```"
   ]
  },
  {
   "cell_type": "markdown",
   "metadata": {},
   "source": [
    "## Exercice 3"
   ]
  },
  {
   "cell_type": "markdown",
   "metadata": {},
   "source": [
    "```py\n",
    "#!/usr/bin/python\n",
    "\n",
    "from flask import Flask, url_for\n",
    "import random\n",
    "\n",
    "app = Flask(__name__)\n",
    "\n",
    "jurons = [\n",
    "\t\"Inomable\",\n",
    "\t\"Mille milliards de mille sabords\",\n",
    "\t\"Bougre d'ectoplasme de moule à gaufres\",\n",
    "\t\"Espèce de cornichon\",\n",
    "\t\"Graine de vaurien\",\n",
    "\t\"Mille tonnerres\",\n",
    "\t\"Esclavagiste\",\n",
    "\t\"Malotru\",\n",
    "\t\"Garnements\",\n",
    "\t\"Ectoplasme\",\n",
    "\t\"Catachrèses\",\n",
    "\t\"Clowns\",\n",
    "\t\"Ornithorynque\",\n",
    "\t\"Judas\",\n",
    "\t\"Rocambole\",\n",
    "\t\"Pays de tonnerre de Brest\",\n",
    "\t\"Iconoclastes\",\n",
    "\t\"Misérable iconoclaste\",\n",
    "\t\"Sales moustiques\",\n",
    "\t\"Sacripant\"\n",
    "]\n",
    "\n",
    "@app.route(\"/\")\n",
    "def home():\n",
    "\treturn \"<h1>Bienvenue</h1><ul><li>/jure (une injure)</li><li>/jure/{n} ({n} injures)</li><li>/portrait (un portrait)</li></ul>\"\n",
    "\n",
    "@app.route(\"/jure\")\n",
    "def jure():\n",
    "\tjuron = random.choices(jurons)[0]\n",
    "\treturn f\"<h1>{juron}</h1>\"\n",
    "\n",
    "@app.route(\"/jure/<int:n>\")\n",
    "def jure_n(n):\n",
    "\tchosen = random.sample(jurons, n)\n",
    "\tresponse = f\"<h1>Les {n} jurons choisis</h1><ul>\"\n",
    "\tfor juron in chosen:\n",
    "\t\tresponse += f\"<li>{juron}</li>\"\n",
    "\tresponse += \"</ul>\"\n",
    "\treturn response\n",
    "\n",
    "@app.route(\"/portrait\")\n",
    "def portrait():\n",
    "\timg_src = url_for('static', filename='haddock.jpg')\n",
    "\treturn f\"<img src={img_src}/>\"\n",
    "```"
   ]
  },
  {
   "cell_type": "code",
   "execution_count": null,
   "metadata": {},
   "outputs": [],
   "source": []
  }
 ],
 "metadata": {
  "kernelspec": {
   "display_name": "Python 3",
   "language": "python",
   "name": "python3"
  },
  "language_info": {
   "codemirror_mode": {
    "name": "ipython",
    "version": 3
   },
   "file_extension": ".py",
   "mimetype": "text/x-python",
   "name": "python",
   "nbconvert_exporter": "python",
   "pygments_lexer": "ipython3",
   "version": "3.7.3"
  }
 },
 "nbformat": 4,
 "nbformat_minor": 2
}
