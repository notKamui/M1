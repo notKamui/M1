{
 "cells": [
  {
   "cell_type": "markdown",
   "metadata": {},
   "source": [
    "# TD3"
   ]
  },
  {
   "cell_type": "markdown",
   "metadata": {},
   "source": [
    "## Exercice 1"
   ]
  },
  {
   "cell_type": "code",
   "execution_count": 123,
   "metadata": {},
   "outputs": [
    {
     "name": "stdout",
     "output_type": "stream",
     "text": [
      ".:\r\n",
      "total 12\r\n",
      "-rw-r--r-- 1 jimmy.teillard 2inf1    0 oct.   6 10:45 a\r\n",
      "-rw-r--r-- 1 jimmy.teillard 2inf1    0 oct.   6 10:45 b\r\n",
      "-rw-r--r-- 1 jimmy.teillard 2inf1    0 oct.   6 10:45 c\r\n",
      "drwxr-xr-x 2 jimmy.teillard 2inf1 4096 oct.   6 10:46 d\r\n",
      "drwxr-xr-x 2 jimmy.teillard 2inf1 4096 oct.   6 11:12 dd\r\n",
      "lrwxrwxrwx 1 jimmy.teillard 2inf1    1 oct.   6 11:24 dl -> d\r\n",
      "-rwx------ 1 jimmy.teillard 2inf1    0 oct.   6 11:52 private\r\n",
      "-rw-r--r-- 1 jimmy.teillard 2inf1 3688 oct.   6 11:50 TD3.ipynb\r\n",
      "\r\n",
      "./d:\r\n",
      "total 0\r\n",
      "-rw-r--r-- 2 jimmy.teillard 2inf1 0 oct.   6 10:45 e\r\n",
      "lrwxrwxrwx 1 jimmy.teillard 2inf1 1 oct.   6 10:46 ee -> e\r\n",
      "-rw-r--r-- 1 jimmy.teillard 2inf1 0 oct.   6 10:45 f\r\n",
      "\r\n",
      "./dd:\r\n",
      "total 0\r\n",
      "-rw-r--r-- 1 jimmy.teillard 2inf1 0 oct.   6 11:12 z\r\n"
     ]
    }
   ],
   "source": [
    "!ls -lR ."
   ]
  },
  {
   "cell_type": "code",
   "execution_count": 124,
   "metadata": {},
   "outputs": [],
   "source": [
    "import os\n",
    "from stat import *"
   ]
  },
  {
   "cell_type": "code",
   "execution_count": 164,
   "metadata": {},
   "outputs": [],
   "source": [
    "def find(rep: str):\n",
    "    nfiles = 0\n",
    "    nlinks = 0\n",
    "    ndirs = 0\n",
    "    nprivate = 0\n",
    "    npublic = 0\n",
    "    for dp, dn, fnames in os.walk(rep):\n",
    "        for sub in dn:\n",
    "            path = os.path.join(dp, sub)\n",
    "            if os.path.islink(path): nlinks += 1\n",
    "            elif os.path.isdir(path): ndirs += 1\n",
    "                \n",
    "            mode = os.stat(path).st_mode\n",
    "            if mode & S_IRWXG or mode & S_IRWXO: npublic += 1\n",
    "            else: nprivate += 1\n",
    "        \n",
    "        for f in fnames:\n",
    "            path = os.path.join(dp, f)\n",
    "            if os.path.islink(path): nlinks += 1\n",
    "            elif os.path.isfile(path): nfiles += 1\n",
    "            print(path)\n",
    "            \n",
    "            mode = os.stat(path).st_mode\n",
    "            if mode & S_IRWXG or mode & S_IRWXO: npublic += 1\n",
    "            else: nprivate += 1\n",
    "            \n",
    "    print(f\"\\n#files : {nfiles}\\n#links : {nlinks}\\n#dirs : {ndirs}\\n#public : {npublic}\\n#private : {nprivate}\")"
   ]
  },
  {
   "cell_type": "code",
   "execution_count": 165,
   "metadata": {},
   "outputs": [
    {
     "name": "stdout",
     "output_type": "stream",
     "text": [
      "./a\n",
      "./c\n",
      "./TD3.ipynb\n",
      "./private\n",
      "./b\n",
      "./.ipynb_checkpoints/TD3-checkpoint.ipynb\n",
      "./dd/z\n",
      "./d/e\n",
      "./d/ee\n",
      "./d/f\n",
      "\n",
      "#files : 9\n",
      "#links : 2\n",
      "#dirs : 3\n",
      "#public : 13\n",
      "#private : 1\n"
     ]
    }
   ],
   "source": [
    "find(\".\")"
   ]
  },
  {
   "cell_type": "markdown",
   "metadata": {},
   "source": [
    "## Exercice 2"
   ]
  },
  {
   "cell_type": "code",
   "execution_count": 169,
   "metadata": {},
   "outputs": [
    {
     "ename": "SystemExit",
     "evalue": "2",
     "output_type": "error",
     "traceback": [
      "An exception has occurred, use %tb to see the full traceback.\n",
      "\u001b[0;31mSystemExit\u001b[0m\u001b[0;31m:\u001b[0m 2\n"
     ]
    },
    {
     "name": "stderr",
     "output_type": "stream",
     "text": [
      "/usr/lib/python3/dist-packages/IPython/core/interactiveshell.py:2886: UserWarning: To exit: use 'exit', 'quit', or Ctrl-D.\n",
      "  warn(\"To exit: use 'exit', 'quit', or Ctrl-D.\", stacklevel=1)\n"
     ]
    }
   ],
   "source": [
    "#!/usr/bin python\n",
    "\n",
    "import os, sys, hashlib, getopt\n",
    "\n",
    "try:\n",
    "    opt, args = getopt.getopt(sys.argv[1:], \"ho:d:e:\", [\"help\", \"output=\", \"directory=\", \"extension=\"])\n",
    "except getopt.GetoptError as err:\n",
    "        sys.exit(2)"
   ]
  },
  {
   "cell_type": "code",
   "execution_count": null,
   "metadata": {},
   "outputs": [],
   "source": []
  }
 ],
 "metadata": {
  "kernelspec": {
   "display_name": "Python 3",
   "language": "python",
   "name": "python3"
  },
  "language_info": {
   "codemirror_mode": {
    "name": "ipython",
    "version": 3
   },
   "file_extension": ".py",
   "mimetype": "text/x-python",
   "name": "python",
   "nbconvert_exporter": "python",
   "pygments_lexer": "ipython3",
   "version": "3.7.3"
  }
 },
 "nbformat": 4,
 "nbformat_minor": 2
}
