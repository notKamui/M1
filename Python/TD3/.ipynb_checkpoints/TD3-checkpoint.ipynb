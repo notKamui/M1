{
 "cells": [
  {
   "cell_type": "markdown",
   "metadata": {},
   "source": [
    "# TD3"
   ]
  },
  {
   "cell_type": "markdown",
   "metadata": {},
   "source": [
    "## Exercice 1"
   ]
  },
  {
   "cell_type": "code",
   "execution_count": 123,
   "metadata": {},
   "outputs": [
    {
     "name": "stdout",
     "output_type": "stream",
     "text": [
      ".:\r\n",
      "total 12\r\n",
      "-rw-r--r-- 1 jimmy.teillard 2inf1    0 oct.   6 10:45 a\r\n",
      "-rw-r--r-- 1 jimmy.teillard 2inf1    0 oct.   6 10:45 b\r\n",
      "-rw-r--r-- 1 jimmy.teillard 2inf1    0 oct.   6 10:45 c\r\n",
      "drwxr-xr-x 2 jimmy.teillard 2inf1 4096 oct.   6 10:46 d\r\n",
      "drwxr-xr-x 2 jimmy.teillard 2inf1 4096 oct.   6 11:12 dd\r\n",
      "lrwxrwxrwx 1 jimmy.teillard 2inf1    1 oct.   6 11:24 dl -> d\r\n",
      "-rwx------ 1 jimmy.teillard 2inf1    0 oct.   6 11:52 private\r\n",
      "-rw-r--r-- 1 jimmy.teillard 2inf1 3688 oct.   6 11:50 TD3.ipynb\r\n",
      "\r\n",
      "./d:\r\n",
      "total 0\r\n",
      "-rw-r--r-- 2 jimmy.teillard 2inf1 0 oct.   6 10:45 e\r\n",
      "lrwxrwxrwx 1 jimmy.teillard 2inf1 1 oct.   6 10:46 ee -> e\r\n",
      "-rw-r--r-- 1 jimmy.teillard 2inf1 0 oct.   6 10:45 f\r\n",
      "\r\n",
      "./dd:\r\n",
      "total 0\r\n",
      "-rw-r--r-- 1 jimmy.teillard 2inf1 0 oct.   6 11:12 z\r\n"
     ]
    }
   ],
   "source": [
    "!ls -lR ."
   ]
  },
  {
   "cell_type": "code",
   "execution_count": 124,
   "metadata": {},
   "outputs": [],
   "source": [
    "import os\n",
    "from stat import *"
   ]
  },
  {
   "cell_type": "code",
   "execution_count": 132,
   "metadata": {},
   "outputs": [],
   "source": [
    "def find(rep: str):\n",
    "    nfiles = 0\n",
    "    nlinks = 0\n",
    "    ndirs = 0\n",
    "    nprivate = 0\n",
    "    npublic = 0\n",
    "    for dp, dn, fnames in os.walk(rep):\n",
    "        for sub in dn:\n",
    "            path = os.path.join(dp, sub)\n",
    "            if os.path.islink(path): nlinks += 1\n",
    "            elif os.path.isdir(path): ndirs += 1\n",
    "                \n",
    "            mode = S_IMODE(os.stat(path).st_mode)\n",
    "            if mode % 100 > 0: npublic += 1\n",
    "            else: nprivate += 1\n",
    "        \n",
    "        for f in fnames:\n",
    "            path = os.path.join(dp, f)\n",
    "            if os.path.islink(path): nlinks += 1\n",
    "            elif os.path.isfile(path): nfiles += 1\n",
    "            print(path)\n",
    "            \n",
    "            mode = S_IMODE(os.stat(path).st_mode)\n",
    "            print(os.stat(path).st_mode)\n",
    "            if mode % 100 > 0: npublic += 1\n",
    "            else: nprivate += 1\n",
    "            \n",
    "    print(f\"\\n#files : {nfiles}\\n#links : {nlinks}\\n#dirs : {ndirs}\\n#public : {npublic}\\n#private : {nprivate}\")"
   ]
  },
  {
   "cell_type": "code",
   "execution_count": 133,
   "metadata": {},
   "outputs": [
    {
     "name": "stdout",
     "output_type": "stream",
     "text": [
      "./a\n",
      "33188\n",
      "./c\n",
      "33188\n",
      "./TD3.ipynb\n",
      "33188\n",
      "./private\n",
      "33216\n",
      "./b\n",
      "33188\n",
      "./.ipynb_checkpoints/TD3-checkpoint.ipynb\n",
      "33188\n",
      "./dd/z\n",
      "33188\n",
      "./d/e\n",
      "33188\n",
      "./d/ee\n",
      "33188\n",
      "./d/f\n",
      "33188\n",
      "\n",
      "#files : 9\n",
      "#links : 2\n",
      "#dirs : 3\n",
      "#public : 14\n",
      "#private : 0\n"
     ]
    }
   ],
   "source": [
    "find(\".\")"
   ]
  },
  {
   "cell_type": "code",
   "execution_count": null,
   "metadata": {},
   "outputs": [],
   "source": []
  }
 ],
 "metadata": {
  "kernelspec": {
   "display_name": "Python 3",
   "language": "python",
   "name": "python3"
  },
  "language_info": {
   "codemirror_mode": {
    "name": "ipython",
    "version": 3
   },
   "file_extension": ".py",
   "mimetype": "text/x-python",
   "name": "python",
   "nbconvert_exporter": "python",
   "pygments_lexer": "ipython3",
   "version": "3.7.3"
  }
 },
 "nbformat": 4,
 "nbformat_minor": 2
}
