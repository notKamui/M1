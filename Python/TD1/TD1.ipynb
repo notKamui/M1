{
 "cells": [
  {
   "cell_type": "markdown",
   "metadata": {},
   "source": [
    "# TD 1"
   ]
  },
  {
   "cell_type": "code",
   "execution_count": 18,
   "metadata": {},
   "outputs": [],
   "source": [
    "def sign(message: str):\n",
    "    lgth = len(message)\n",
    "    if lgth > 75: return\n",
    "    frame = '*' * (lgth + 4)\n",
    "    print(\"%s\\n* %s *\\n%s\" % (frame, message, frame))"
   ]
  },
  {
   "cell_type": "code",
   "execution_count": 19,
   "metadata": {},
   "outputs": [
    {
     "name": "stdout",
     "output_type": "stream",
     "text": [
      "*************\n",
      "* coin coin *\n",
      "*************\n"
     ]
    }
   ],
   "source": [
    "sign(\"coin coin\")"
   ]
  },
  {
   "cell_type": "markdown",
   "metadata": {},
   "source": [
    "## Exercice 2"
   ]
  },
  {
   "cell_type": "code",
   "execution_count": 42,
   "metadata": {},
   "outputs": [],
   "source": [
    "def large_sign(message: str):\n",
    "    lgth = len(message)\n",
    "    frame = '*' * 79\n",
    "    padding = ' ' * int((77 - lgth)/2)\n",
    "    print(\"%s\\n*%s%s%s*\\n%s\" % (frame, padding, message, padding, frame))"
   ]
  },
  {
   "cell_type": "code",
   "execution_count": 44,
   "metadata": {},
   "outputs": [
    {
     "name": "stdout",
     "output_type": "stream",
     "text": [
      "*******************************************************************************\n",
      "*                             coin yuytuytuytcoin                             *\n",
      "*******************************************************************************\n"
     ]
    }
   ],
   "source": [
    "large_sign(\"coin yuytuytuytcoin\")"
   ]
  },
  {
   "cell_type": "markdown",
   "metadata": {},
   "source": [
    "## Exercice 3"
   ]
  },
  {
   "cell_type": "code",
   "execution_count": 45,
   "metadata": {},
   "outputs": [],
   "source": [
    "def extract_sign(message: str):\n",
    "    (_, center, _) = message.split('\\n')\n",
    "    print(center[2:-2])"
   ]
  },
  {
   "cell_type": "code",
   "execution_count": 46,
   "metadata": {},
   "outputs": [
    {
     "name": "stdout",
     "output_type": "stream",
     "text": [
      "coin coin\n"
     ]
    }
   ],
   "source": [
    "extract_sign(\"*************\\n* coin coin *\\n*************\")"
   ]
  },
  {
   "cell_type": "markdown",
   "metadata": {},
   "source": [
    "## Exercice 4\n"
   ]
  },
  {
   "cell_type": "code",
   "execution_count": 55,
   "metadata": {},
   "outputs": [],
   "source": [
    "def mangle(s1: str, s2: str) -> str:\n",
    "    ls1 = len(s1)\n",
    "    ls2 = len(s2)\n",
    "    ret = \"\"\n",
    "    for i in range(min(ls1, ls2)):\n",
    "        ret = ret + s1[i] + s2[i]\n",
    "    if (ls1 > ls2):\n",
    "        ret = ret + s1[ls2:]\n",
    "    else:\n",
    "        ret = ret + s2[ls1:]\n",
    "    return ret"
   ]
  },
  {
   "cell_type": "code",
   "execution_count": 56,
   "metadata": {},
   "outputs": [
    {
     "data": {
      "text/plain": [
       "'a0b1c2d3e4f56789'"
      ]
     },
     "execution_count": 56,
     "metadata": {},
     "output_type": "execute_result"
    }
   ],
   "source": [
    "mangle(\"abcdef\", \"0123456789\")"
   ]
  },
  {
   "cell_type": "markdown",
   "metadata": {},
   "source": [
    "## Exercice 5"
   ]
  },
  {
   "cell_type": "code",
   "execution_count": 79,
   "metadata": {},
   "outputs": [],
   "source": [
    "def unmangle(s: str) -> (str, str):\n",
    "    flip = True\n",
    "    s1 = \"\"\n",
    "    s2 = \"\"\n",
    "    for c in s:\n",
    "        if flip:\n",
    "            s1 = s1 + c\n",
    "        else:\n",
    "            s2 = s2 + c\n",
    "        flip = not flip\n",
    "    return (s1, s2)"
   ]
  },
  {
   "cell_type": "code",
   "execution_count": 80,
   "metadata": {},
   "outputs": [
    {
     "data": {
      "text/plain": [
       "('abcdef68', '01234579')"
      ]
     },
     "execution_count": 80,
     "metadata": {},
     "output_type": "execute_result"
    }
   ],
   "source": [
    "unmangle(\"a0b1c2d3e4f56789\")"
   ]
  },
  {
   "cell_type": "markdown",
   "metadata": {},
   "source": [
    "## Exercice 6"
   ]
  },
  {
   "cell_type": "code",
   "execution_count": 67,
   "metadata": {},
   "outputs": [],
   "source": [
    "daltons=[{\"nom\":\"joe\",\"taille\":140,\"caractere\":\"teigneux\"},{\"nom\":\"jack\",\"taille\":155,\"caractere\":\"idiot\"},{\"nom\":\"william\",\"taille\":170,\"caractere\":\"stupide\"},{\"nom\":\"averell\",\"taille\":185,\"caractere\":\"abruti\"}]"
   ]
  },
  {
   "cell_type": "code",
   "execution_count": 70,
   "metadata": {},
   "outputs": [
    {
     "name": "stdout",
     "output_type": "stream",
     "text": [
      "[{'nom': 'joe', 'taille': 140, 'caractere': 'teigneux'}, {'nom': 'jack', 'taille': 155, 'caractere': 'idiot'}, {'nom': 'william', 'taille': 170, 'caractere': 'stupide'}, {'nom': 'averell', 'taille': 185, 'caractere': 'abruti'}]\n"
     ]
    }
   ],
   "source": [
    "print (daltons)"
   ]
  },
  {
   "cell_type": "code",
   "execution_count": 71,
   "metadata": {},
   "outputs": [
    {
     "name": "stdout",
     "output_type": "stream",
     "text": [
      "[{'nom': 'averell', 'taille': 185, 'caractere': 'abruti'}, {'nom': 'jack', 'taille': 155, 'caractere': 'idiot'}, {'nom': 'joe', 'taille': 140, 'caractere': 'teigneux'}, {'nom': 'william', 'taille': 170, 'caractere': 'stupide'}]\n"
     ]
    }
   ],
   "source": [
    "daltons.sort(key=lambda x:x['nom'])\n",
    "print (daltons)"
   ]
  },
  {
   "cell_type": "code",
   "execution_count": 72,
   "metadata": {},
   "outputs": [
    {
     "name": "stdout",
     "output_type": "stream",
     "text": [
      "[{'nom': 'joe', 'taille': 140, 'caractere': 'teigneux'}, {'nom': 'jack', 'taille': 155, 'caractere': 'idiot'}, {'nom': 'william', 'taille': 170, 'caractere': 'stupide'}, {'nom': 'averell', 'taille': 185, 'caractere': 'abruti'}]\n"
     ]
    }
   ],
   "source": [
    "daltons.sort(key=lambda x:x['taille'])\n",
    "print (daltons)"
   ]
  },
  {
   "cell_type": "markdown",
   "metadata": {},
   "source": [
    "## Dico"
   ]
  },
  {
   "cell_type": "code",
   "execution_count": 77,
   "metadata": {},
   "outputs": [],
   "source": [
    "def are_in_dico(filename: str, *words: str):\n",
    "    dico = open(filename).read().split('\\n')\n",
    "    for word in words:\n",
    "        print(\"'%s' is%s in the dictionnary.\" % (word, \"\" if word in dico else \" not\"))"
   ]
  },
  {
   "cell_type": "code",
   "execution_count": 78,
   "metadata": {
    "scrolled": true
   },
   "outputs": [
    {
     "name": "stdout",
     "output_type": "stream",
     "text": [
      "'luke' is not in the dictionnary.\n",
      "'je' is in the dictionnary.\n",
      "'suis' is in the dictionnary.\n",
      "'ton' is in the dictionnary.\n",
      "'père' is in the dictionnary.\n"
     ]
    }
   ],
   "source": [
    "are_in_dico(\"/usr/share/dict/french\", \"luke\", \"je\", \"suis\", \"ton\", \"père\")"
   ]
  },
  {
   "cell_type": "code",
   "execution_count": 100,
   "metadata": {},
   "outputs": [
    {
     "name": "stdout",
     "output_type": "stream",
     "text": [
      "#!/usr/bin/python\n",
      "\n",
      "import sys\n",
      "\n",
      "def are_in_dico(filename: str, *words: str):\n",
      "    dico = open(filename).read().split('\\n')\n",
      "    for word in words:\n",
      "        print(\"'%s' is %sin the dictionnary.\" % (word, \"\" if word in dico else \"not \"))\n",
      "\n",
      "filename = sys.argv[1]\n",
      "words = sys.argv[2:]\n",
      "are_in_dico(filename, *words)\n",
      "\n"
     ]
    }
   ],
   "source": [
    "print(open(\"dico.py\").read())"
   ]
  },
  {
   "cell_type": "code",
   "execution_count": null,
   "metadata": {},
   "outputs": [],
   "source": []
  }
 ],
 "metadata": {
  "kernelspec": {
   "display_name": "Python 3",
   "language": "python",
   "name": "python3"
  },
  "language_info": {
   "codemirror_mode": {
    "name": "ipython",
    "version": 3
   },
   "file_extension": ".py",
   "mimetype": "text/x-python",
   "name": "python",
   "nbconvert_exporter": "python",
   "pygments_lexer": "ipython3",
   "version": "3.7.3"
  }
 },
 "nbformat": 4,
 "nbformat_minor": 2
}
