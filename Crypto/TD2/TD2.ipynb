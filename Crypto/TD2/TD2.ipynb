{
 "cells": [
  {
   "cell_type": "code",
   "execution_count": 1,
   "metadata": {},
   "outputs": [
    {
     "name": "stdout",
     "output_type": "stream",
     "text": [
      "      UKMHEUTN YP DERJJN,\n",
      "\n",
      "QSNNO DTWGVF V'ZXA YNNEUMF INJAAQIT, QKMAQKR JFXX SLHFXFRYP, QK'NJ E MTNOGL YKTFDOGUDWWRY ZXP XEZQE KRWORYS C EZ DEEWZDFPQE OL EZ MFSDBMMQGA, I'LN J'EBNAOEP, KHD EZ DEEWFPIT, OL IAHEUMBPZF OL CVVGB RWCIT MNFPEHNJEZKVV, H'ICVGMA OL QEFOP XEZQE QKL ZA YE WFPA EXVFRYP OL MFZBSFS P CVVGM SRYEUMF QWCJPDKICJLH JN WC QMOEV EEW XRITMFAX OL CVVGA YOGIAT.\n",
      "    KJ NEUMH B TPFMF IBNRKOBPCIW PK \"VTNGVSQABD ZBPUQ\" OLODNJYP OGMHM QGA YPA EZFCJEPWOAX OLY SOGIAMH QKS A'LHI TZBWDYC, M'ZF HE WAQN RHDCJ OL UKX IYPXR VTM SR IPVMF OL GHDV FPOQIGWWRY.\n",
      "    CB CVYE ECBDDFS, C GHDVEW EPMH DVNJEW, QKL ZP XKOKMOL ZX MXMNK, FUD ILQKJNIT, ZX OSZBYPY LKTWYM SQ PGA CB OFJAS CEHS QUD QEJAOGUD OLECBGBZKFMF YP FDXVSCW SEZQKV, HX TUMFXUD JN EZ FDCKADT.\n",
      "    XT VUWC QZFOGP DFXG HBMOCH BX TEUB GUWWDRH WW EPAVO RX IKTFDOGH QFPOLD-MUWQ WEPC ZGA SRYE SDWYECLHF VXTRLVGH BEW OSPMBPCIMH.\n",
      "    FP E'ZFOFPIT Q'XUD DEGQNMZ FPXLHKM, CB CVYE DEEU U'VVTMSA, LLHECOEV UP XMFKZO, DXREC QKT VPFMF UVWW, E'ZCQTNNNQE OL CG WBRWOGIT OSMHZDZFRLCIM HNNN RMFENIBQE OL WWC QDFDVRLCIMH IBHHXRKSMSK MD CA YEW KUYXSFITK MZBMFCQMSC.\n",
      "\n",
      "    (QOCANKFMF JN PZMFCQP)\n",
      "     (XEUZSH BKI)\n",
      "R\n",
      "\n"
     ]
    }
   ],
   "source": [
    "import numpy as np\n",
    "\n",
    "with open(\"Hill.txt\") as f:\n",
    "    content = f.read()\n",
    "\n",
    "print(content)"
   ]
  },
  {
   "cell_type": "markdown",
   "metadata": {},
   "source": [
    "application bijective <=> chaque code correspond a une lettre, et pour chaque lettre il existe un code"
   ]
  },
  {
   "cell_type": "code",
   "execution_count": 2,
   "metadata": {},
   "outputs": [],
   "source": [
    "def matrix_inv(determinant):\n",
    "    multiplicative_inverse = -1\n",
    "    for i in range(26):\n",
    "        inverse = determinant * i\n",
    "        if inverse % 26 == 1:\n",
    "            multiplicative_inverse = i\n",
    "            break\n",
    "    return multiplicative_inverse"
   ]
  },
  {
   "cell_type": "code",
   "execution_count": 3,
   "metadata": {},
   "outputs": [],
   "source": [
    "def chr_to_int(char):\n",
    "    char = char.upper()\n",
    "    integer = ord(char) - 65\n",
    "    return integer"
   ]
  },
  {
   "cell_type": "code",
   "execution_count": 4,
   "metadata": {},
   "outputs": [],
   "source": [
    "def create_matrix(string):\n",
    "    integers = [chr_to_int(c) for c in string]\n",
    "    length = len(integers)\n",
    "    M = np.zeros((2, int(length / 2)), dtype=np.int32)\n",
    "    iterator = 0\n",
    "    for column in range(int(length / 2)):\n",
    "        for row in range(2):\n",
    "            M[row][column] = integers[iterator]\n",
    "            iterator += 1\n",
    "    return M"
   ]
  },
  {
   "cell_type": "code",
   "execution_count": 5,
   "metadata": {},
   "outputs": [],
   "source": [
    "def make_key():\n",
    "    determinant = 0\n",
    "    C = None\n",
    "    while True:\n",
    "        cipher = input(\"4 letter cipher: \")\n",
    "        C = create_matrix(cipher)\n",
    "        determinant = C[0][0] * C[1][1] - C[0][1] * C[1][0]\n",
    "        determinant = determinant % 26\n",
    "        inverse_element = matrix_inv(determinant)\n",
    "        if inverse_element == -1:\n",
    "            print(\"Uninvertible key\")\n",
    "        elif np.amax(C) > 26 and np.amin(C) < 0:\n",
    "            print(\"[a-zA-Z] only\")\n",
    "            print(np.amax(C), np.amin(C))\n",
    "        else:\n",
    "            break\n",
    "    return C"
   ]
  },
  {
   "cell_type": "code",
   "execution_count": 6,
   "metadata": {},
   "outputs": [],
   "source": [
    "def apply_cypher(msg, P, C):\n",
    "    cy = \"\"\n",
    "    for i in range(int(len(msg)/2)):\n",
    "        row_0 = P[0][i] * C[0][0] + P[1][i] * C[0][1]\n",
    "        integer = int(row_0 % 26 + 65)\n",
    "        cy += chr(integer)\n",
    "        row_1 = P[0][i] * C[1][0] + P[1][i] * C[1][1]\n",
    "        integer = int(row_1 % 26 + 65)\n",
    "        cy += chr(integer)\n",
    "    return cy"
   ]
  },
  {
   "cell_type": "code",
   "execution_count": 7,
   "metadata": {},
   "outputs": [],
   "source": [
    "def encrypt(msg, C = None):\n",
    "    if C is None: C = make_key()\n",
    "    msg = msg.replace(\" \", \"\")\n",
    "    len_check = len(msg) % 2 == 0\n",
    "    if not len_check:\n",
    "        msg += \"0\"\n",
    "    P = create_matrix(msg)\n",
    "    encrypted_msg = apply_cypher(msg, P, C)\n",
    "    return encrypted_msg"
   ]
  },
  {
   "cell_type": "code",
   "execution_count": 35,
   "metadata": {},
   "outputs": [],
   "source": [
    "def decrypt(msg, C = None):\n",
    "    if C is None: C = make_key()\n",
    "    determinant = C[0][0] * C[1][1] - C[0][1] * C[1][0]\n",
    "    determinant %= 26\n",
    "    multiplicative_inverse = matrix_inv(determinant)\n",
    "    C_inverse = C\n",
    "    C_inverse[0][0], C_inverse[1][1] = C_inverse[1, 1], C_inverse[0, 0]\n",
    "    C[0][1] *= -1\n",
    "    C[1][0] *= -1\n",
    "    C_inverse = np.dot(C_inverse, multiplicative_inverse)\n",
    "    C_inverse %= 26\n",
    "    P = create_matrix(msg)\n",
    "    decrypted_msg = apply_cypher(msg, P, C_inverse)\n",
    "    if decrypted_msg[-1] == \"0\":\n",
    "        decrypted_msg = decrypted_msg[:-1]\n",
    "    return decrypted_msg"
   ]
  },
  {
   "cell_type": "code",
   "execution_count": 9,
   "metadata": {},
   "outputs": [
    {
     "name": "stdout",
     "output_type": "stream",
     "text": [
      "4 letter cipher: JIPD\n"
     ]
    },
    {
     "data": {
      "text/plain": [
       "'TQERBJ'"
      ]
     },
     "execution_count": 9,
     "metadata": {},
     "output_type": "execute_result"
    }
   ],
   "source": [
    "encrypt(\"hello\")"
   ]
  },
  {
   "cell_type": "code",
   "execution_count": 33,
   "metadata": {},
   "outputs": [
    {
     "name": "stdout",
     "output_type": "stream",
     "text": [
      "4 letter cipher: JIPD\n"
     ]
    },
    {
     "data": {
      "text/plain": [
       "'HELLOJ'"
      ]
     },
     "execution_count": 33,
     "metadata": {},
     "output_type": "execute_result"
    }
   ],
   "source": [
    "decrypt(\"tqerbj\")"
   ]
  },
  {
   "cell_type": "code",
   "execution_count": 31,
   "metadata": {},
   "outputs": [
    {
     "name": "stdout",
     "output_type": "stream",
     "text": [
      "(24, 5, 7, 17)\n"
     ]
    }
   ],
   "source": [
    "for i in range(26): \n",
    "    for j in range(26): \n",
    "        for k in range(26): \n",
    "            for l in range(26):\n",
    "                key = np.array([[i, j],[k, l]])\n",
    "                if matrix_inv(key[0][0] * key[1][1] - key[0][1] * key[1][0]) != -1:\n",
    "                    if \"MONSIEUR\" == decrypt(\"UKMHEUTN\", key):\n",
    "                        print((i, j, k, l))"
   ]
  },
  {
   "cell_type": "code",
   "execution_count": 36,
   "metadata": {},
   "outputs": [
    {
     "name": "stdout",
     "output_type": "stream",
     "text": [
      "      MONSIEUR LE PREFET,\n",
      "\n",
      "AYANT APPRIS D'UNE MANIERE FORTUITE, QUOIQUE FORT HONORABLE, QU'IL Y AURAIT PROCHAINEMENT UNE PLACE VACANTE A LA PRESIDENCE DE LA REPUBLIQUE, J'AI L'HONNEUR, PAR LA PRESENTE, DE SOLLICITER DE VOTRE HAUTE BIENVEILLANCE, L'OCTROI DE CETTE PLACE QUE JE ME SENS CAPABLE DE REMPLIR A VOTRE ENTIERE SATISFACTION ET AU MIEUX DES INTERETS DE VOTRE MAISON.\n",
      "    JE TIENS A VOTRE DISPOSITION UN \"CURRICULUM VITAE\" DETAILLE AINSI QUE LES CERTIFICATS DES MAISONS QUI M'ONT EMPLOYE, D'OU JE SUIS PARTI DE MON PLEIN GRE ET LIBRE DE TOUT ENGAGEMENT.\n",
      "    JE VOUS SIGNALE, A TOUTES FINS UTILES, QUE JE POSSEDE UN HABIT, UNE JAQUETTE, UN COMPLET CROISE ET QUE JE PORTE AVEC UNE CERTAINE DESINVOLTURE LE CHAPEAU CLAQUE, LE BICORNE ET LA CHECHIA.\n",
      "    JE VOUS SERAIS FORT OBLIGE DE BIEN VOULOIR ME FIXER UN PROCHAIN RENDEZ-VOUS AFIN QUE NOUS PUISSIONS DEBATTRE DES CONDITIONS.\n",
      "    EN L'ATTENTE D'UNE PROMPTE REPONSE, JE VOUS PRIE D'AGREER, MONSIEUR LE PREFET, AINSI QUE VOTRE DAME, L'ASSURANCE DE MA PARFAITE CONSIDERATION SANS PREJUDICE DE MES SALUTATIONS DISTINGUEES ET DE MES CIVILITES EMPRESSEES.\n",
      "\n",
      "    (SIGNATURE ET ADRESSE)\n",
      "     (PIERRE DAC)\n",
      "\n"
     ]
    }
   ],
   "source": [
    "msg = ''.join(filter(str.isalpha, content))\n",
    "d = decrypt(msg, np.array([[24, 5],[7, 17]]))\n",
    "j = 0\n",
    "for i in range(len(content)):\n",
    "    if not (ord('A') <= ord(content[i]) <= ord('Z')): \n",
    "        print(content[i], end='')\n",
    "    else:\n",
    "        try:\n",
    "            print(d[j], end='')\n",
    "        except:\n",
    "            pass\n",
    "        j += 1"
   ]
  },
  {
   "cell_type": "code",
   "execution_count": null,
   "metadata": {},
   "outputs": [],
   "source": []
  }
 ],
 "metadata": {
  "kernelspec": {
   "display_name": "Python 3",
   "language": "python",
   "name": "python3"
  },
  "language_info": {
   "codemirror_mode": {
    "name": "ipython",
    "version": 3
   },
   "file_extension": ".py",
   "mimetype": "text/x-python",
   "name": "python",
   "nbconvert_exporter": "python",
   "pygments_lexer": "ipython3",
   "version": "3.7.3"
  }
 },
 "nbformat": 4,
 "nbformat_minor": 2
}
