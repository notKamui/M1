{
 "cells": [
  {
   "cell_type": "code",
   "execution_count": 139,
   "metadata": {},
   "outputs": [],
   "source": [
    "import doctest\n",
    "import math"
   ]
  },
  {
   "cell_type": "code",
   "execution_count": 140,
   "metadata": {},
   "outputs": [],
   "source": [
    "def gcd(a, b):\n",
    "    \"\"\"Calculates the GCD of a and b\n",
    "    \n",
    "    >>> gcd(10, 5)\n",
    "    5\n",
    "    \n",
    "    >>> gcd(530, 230)\n",
    "    10\n",
    "    \n",
    "    >>> gcd(9, 7)\n",
    "    1\n",
    "    \n",
    "    >>> gcd(0, 0)\n",
    "    \n",
    "    \"\"\"\n",
    "    if a == 0 and b == 0:\n",
    "        return None\n",
    "    \n",
    "    if b == 0:\n",
    "        return a\n",
    "    else:\n",
    "        return gcd(b, (a % b))"
   ]
  },
  {
   "cell_type": "code",
   "execution_count": 141,
   "metadata": {},
   "outputs": [],
   "source": [
    "def xgcd(a,b):\n",
    "    \"\"\"Calculates the XGCD of a and b\n",
    "    \n",
    "    >>> xgcd(10, 5)\n",
    "    (5, 0, 1)\n",
    "    \n",
    "    >>> xgcd(530, 230)\n",
    "    (10, 10, -23)\n",
    "    \n",
    "    >>> xgcd(9, 7)\n",
    "    (1, -3, 4)\n",
    "    \n",
    "    >>> xgcd(0, 0)\n",
    "    \n",
    "    \"\"\"\n",
    "    if a == 0 and b == 0:\n",
    "        return None\n",
    "    \n",
    "    if b == 0:\n",
    "        return (a, 1, 0)\n",
    "    else:\n",
    "        div, mod = a // b, a % b\n",
    "        d, u, v = xgcd(b, mod)\n",
    "        return (d, v, u - div * v)"
   ]
  },
  {
   "cell_type": "code",
   "execution_count": 142,
   "metadata": {},
   "outputs": [],
   "source": [
    "def inversemod(a, n):\n",
    "    \"\"\"Calculates the inverse of a % n\n",
    "    \n",
    "    >>> inversemod(6, 5)\n",
    "    1\n",
    "    \n",
    "    >>> inversemod(6, 10)\n",
    "    \n",
    "    \n",
    "    >>> inversemod(10, 17)\n",
    "    12\n",
    "    \"\"\"\n",
    "    d, u, _ = xgcd(a, n)\n",
    "    if d != 1:\n",
    "        return None\n",
    "    return u % n"
   ]
  },
  {
   "cell_type": "code",
   "execution_count": 143,
   "metadata": {},
   "outputs": [],
   "source": [
    "def primes(n):\n",
    "    \"\"\"Finds all the prime numbers up to n\n",
    "    \n",
    "    >>> primes(30)\n",
    "    [2, 3, 5, 7, 11, 13, 17, 19, 23, 29]\n",
    "    \n",
    "    >>> primes(2)\n",
    "    [2]\n",
    "    \n",
    "    >>> primes(1)\n",
    "    []\n",
    "    \"\"\"\n",
    "    if n < 2:\n",
    "        return []\n",
    "    P = [2]\n",
    "    M = [x for x in range(3, n) if x % 2 != 0]\n",
    "    while M != []:\n",
    "        P.append(M[0])\n",
    "        M = [x for x in M if x % M[0] != 0]\n",
    "    return P"
   ]
  },
  {
   "cell_type": "code",
   "execution_count": 144,
   "metadata": {},
   "outputs": [],
   "source": [
    "def powermod(a, b, n):\n",
    "    \"\"\"Calculates a^b % n\n",
    "    \n",
    "    >>> powermod(3, 9, 5)\n",
    "    3\n",
    "    \n",
    "    >>> powermod(2, 6, 2)\n",
    "    0\n",
    "    \"\"\"\n",
    "    res = 1\n",
    "    while b:\n",
    "        if b & 1: \n",
    "            res = (res * a) % n\n",
    "        b >>= 1\n",
    "        a = (a * a) % n\n",
    "    return res"
   ]
  },
  {
   "cell_type": "code",
   "execution_count": 145,
   "metadata": {},
   "outputs": [
    {
     "data": {
      "text/plain": [
       "TestResults(failed=0, attempted=16)"
      ]
     },
     "execution_count": 145,
     "metadata": {},
     "output_type": "execute_result"
    }
   ],
   "source": [
    "doctest.testmod()"
   ]
  },
  {
   "cell_type": "code",
   "execution_count": 156,
   "metadata": {},
   "outputs": [
    {
     "ename": "SyntaxError",
     "evalue": "invalid syntax (<ipython-input-156-940d68aa0330>, line 2)",
     "output_type": "error",
     "traceback": [
      "\u001b[0;36m  File \u001b[0;32m\"<ipython-input-156-940d68aa0330>\"\u001b[0;36m, line \u001b[0;32m2\u001b[0m\n\u001b[0;31m    if i < 2 = False\u001b[0m\n\u001b[0m             ^\u001b[0m\n\u001b[0;31mSyntaxError\u001b[0m\u001b[0;31m:\u001b[0m invalid syntax\n"
     ]
    }
   ],
   "source": [
    "def is_prime(n):\n",
    "    if i < 2:\n",
    "        return False\n",
    "    for i in range(2, int(n/2)+1):\n",
    "        if n % i == 0:\n",
    "            return False\n",
    "    return True"
   ]
  },
  {
   "cell_type": "code",
   "execution_count": 157,
   "metadata": {},
   "outputs": [
    {
     "name": "stdout",
     "output_type": "stream",
     "text": [
      "[2, 3, 5, 7, 11, 13, 17, 19, 23, 29]\n"
     ]
    }
   ],
   "source": [
    "P = []\n",
    "i = 2\n",
    "while len(P) < 10:\n",
    "    if is_prime(i):\n",
    "        P.append(i)\n",
    "    i += 1\n",
    "print(P)"
   ]
  },
  {
   "cell_type": "code",
   "execution_count": null,
   "metadata": {},
   "outputs": [],
   "source": []
  }
 ],
 "metadata": {
  "kernelspec": {
   "display_name": "Python 3",
   "language": "python",
   "name": "python3"
  },
  "language_info": {
   "codemirror_mode": {
    "name": "ipython",
    "version": 3
   },
   "file_extension": ".py",
   "mimetype": "text/x-python",
   "name": "python",
   "nbconvert_exporter": "python",
   "pygments_lexer": "ipython3",
   "version": "3.7.3"
  }
 },
 "nbformat": 4,
 "nbformat_minor": 2
}
