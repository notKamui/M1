{
 "cells": [
  {
   "cell_type": "markdown",
   "metadata": {},
   "source": [
    "# MD5"
   ]
  },
  {
   "cell_type": "code",
   "execution_count": 122,
   "metadata": {},
   "outputs": [],
   "source": [
    "from struct import *\n",
    "\n",
    "def leftrotate(x: str, c: int) -> str:\n",
    "    c %= 32\n",
    "    return x[c:32] + x[0:c]\n",
    "\n",
    "def flat(n: int) -> str:\n",
    "    if (n < 0):\n",
    "        f = format((-n)-1, 'b')\n",
    "        res = \"\"\n",
    "        for c in f:\n",
    "            res += '0' if c == '1' else '1'\n",
    "        res = '1' * (32-len(res)) + res\n",
    "    else:\n",
    "        res = format(n, 'b')\n",
    "        res = '0' * (32-len(res)) + res\n",
    "    return res\n",
    "\n",
    "def md5(message: str) -> str:\n",
    "    s = [None] * 64\n",
    "    K = [None] * 64\n",
    "    \n",
    "    s[ 0:16] = [ 7, 12, 17, 22,  7, 12, 17, 22,  7, 12, 17, 22,  7, 12, 17, 22 ]\n",
    "    s[16:32] = [ 5,  9, 14, 20,  5,  9, 14, 20,  5,  9, 14, 20,  5,  9, 14, 20 ]\n",
    "    s[32:48] = [ 4, 11, 16, 23,  4, 11, 16, 23,  4, 11, 16, 23,  4, 11, 16, 23 ]\n",
    "    s[48:64] = [ 6, 10, 15, 21,  6, 10, 15, 21,  6, 10, 15, 21,  6, 10, 15, 21 ]\n",
    "    \n",
    "    K[ 0: 4] = [ 0xd76aa478, 0xe8c7b756, 0x242070db, 0xc1bdceee ]\n",
    "    K[ 4: 8] = [ 0xf57c0faf, 0x4787c62a, 0xa8304613, 0xfd469501 ]\n",
    "    K[ 8:12] = [ 0x698098d8, 0x8b44f7af, 0xffff5bb1, 0x895cd7be ]\n",
    "    K[12:16] = [ 0x6b901122, 0xfd987193, 0xa679438e, 0x49b40821 ]\n",
    "    K[16:20] = [ 0xf61e2562, 0xc040b340, 0x265e5a51, 0xe9b6c7aa ]\n",
    "    K[20:24] = [ 0xd62f105d, 0x02441453, 0xd8a1e681, 0xe7d3fbc8 ]\n",
    "    K[24:28] = [ 0x21e1cde6, 0xc33707d6, 0xf4d50d87, 0x455a14ed ]\n",
    "    K[28:32] = [ 0xa9e3e905, 0xfcefa3f8, 0x676f02d9, 0x8d2a4c8a ]\n",
    "    K[32:36] = [ 0xfffa3942, 0x8771f681, 0x6d9d6122, 0xfde5380c ]\n",
    "    K[36:40] = [ 0xa4beea44, 0x4bdecfa9, 0xf6bb4b60, 0xbebfbc70 ]\n",
    "    K[40:44] = [ 0x289b7ec6, 0xeaa127fa, 0xd4ef3085, 0x04881d05 ]\n",
    "    K[44:48] = [ 0xd9d4d039, 0xe6db99e5, 0x1fa27cf8, 0xc4ac5665 ]\n",
    "    K[48:52] = [ 0xf4292244, 0x432aff97, 0xab9423a7, 0xfc93a039 ]\n",
    "    K[52:56] = [ 0x655b59c3, 0x8f0ccc92, 0xffeff47d, 0x85845dd1 ]\n",
    "    K[56:60] = [ 0x6fa87e4f, 0xfe2ce6e0, 0xa3014314, 0x4e0811a1 ]\n",
    "    K[60:64] = [ 0xf7537e82, 0xbd3af235, 0x2ad7d2bb, 0xeb86d391 ]\n",
    "    \n",
    "    a0 = 0x67452301\n",
    "    b0 = 0xefcdab89\n",
    "    c0 = 0x98badcfe\n",
    "    d0 = 0x10325476\n",
    "    \n",
    "    msg = list(''.join(flat(ord(i)) for i in message))\n",
    "    msg.append('1')\n",
    "    while len(msg) % 512 != 448:\n",
    "        msg.append('0')\n",
    "    msg += list(flat(len(message) % 2**64))\n",
    "    \n",
    "    for part in range(0, int(len(msg) / 512)+1):\n",
    "        M = []\n",
    "        for i in range(part*512, part*512+512, 32):\n",
    "            M.append(''.join(msg[i:i + 32]))\n",
    "        \n",
    "        A = a0\n",
    "        B = b0\n",
    "        C = c0\n",
    "        D = d0\n",
    "        \n",
    "        for i in range(0, 64):\n",
    "            if 0 <= i <= 15:\n",
    "                F = (B & C) | ((~ B) & D)\n",
    "                g = i\n",
    "            elif 16 <= i <= 31:\n",
    "                F = (D & B) | ((~ D) & C)\n",
    "                g = (5*i + 1) % 16\n",
    "            elif 32 <= i <= 47:\n",
    "                F = B ^ C ^ D\n",
    "                g = (3*i + 5) % 16\n",
    "            elif 48 <= i <= 63:\n",
    "                F = C ^ (B | (~ D))\n",
    "                g = (7*i) % 16\n",
    "                \n",
    "            pad = M[g] + ('0' * (32-len(M[g])))\n",
    "            F = F + A + K[i] + int(pad, 2)\n",
    "            A = D\n",
    "            D = C\n",
    "            C = B\n",
    "            B = B + int(leftrotate(flat(F), s[i]), 2)\n",
    "            \n",
    "        a0 = a0 + A\n",
    "        b0 = b0 + B\n",
    "        c0 = c0 + C\n",
    "        d0 = d0 + D\n",
    "    \n",
    "    res = \"\"\n",
    "    parts = [flat(a0), flat(b0), flat(c0), flat(d0)]\n",
    "    for part in parts:\n",
    "        for i in range(0, int(32/8) + 1):\n",
    "            n = part[i*8:i*8+8]\n",
    "            res += chr(int(n, 2))\n",
    "    return res"
   ]
  },
  {
   "cell_type": "code",
   "execution_count": 123,
   "metadata": {},
   "outputs": [
    {
     "data": {
      "text/plain": [
       "'Í)FiØÑæõ\\x1d\\x92ÏEqºúÎ\\x85Tî\\x88'"
      ]
     },
     "execution_count": 123,
     "metadata": {},
     "output_type": "execute_result"
    }
   ],
   "source": [
    "md5(\"The quick brown fox jumps over the lazy dog!\")"
   ]
  },
  {
   "cell_type": "code",
   "execution_count": 125,
   "metadata": {},
   "outputs": [
    {
     "ename": "UnicodeDecodeError",
     "evalue": "'ascii' codec can't decode byte 0x9e in position 0: ordinal not in range(128)",
     "output_type": "error",
     "traceback": [
      "\u001b[0;31m---------------------------------------------------------------------------\u001b[0m",
      "\u001b[0;31mUnicodeDecodeError\u001b[0m                        Traceback (most recent call last)",
      "\u001b[0;32m<ipython-input-125-e1a170c45bf7>\u001b[0m in \u001b[0;36m<module>\u001b[0;34m()\u001b[0m\n\u001b[0;32m----> 1\u001b[0;31m \u001b[0mprint\u001b[0m\u001b[0;34m(\u001b[0m\u001b[0mbytes\u001b[0m\u001b[0;34m.\u001b[0m\u001b[0mfromhex\u001b[0m\u001b[0;34m(\u001b[0m\u001b[0;34m'9e107d9d372bb6826bd81d3542a419d6'\u001b[0m\u001b[0;34m)\u001b[0m\u001b[0;34m.\u001b[0m\u001b[0mdecode\u001b[0m\u001b[0;34m(\u001b[0m\u001b[0;34m'ascii'\u001b[0m\u001b[0;34m)\u001b[0m\u001b[0;34m)\u001b[0m\u001b[0;34m\u001b[0m\u001b[0;34m\u001b[0m\u001b[0m\n\u001b[0m",
      "\u001b[0;31mUnicodeDecodeError\u001b[0m: 'ascii' codec can't decode byte 0x9e in position 0: ordinal not in range(128)"
     ]
    }
   ],
   "source": [
    "print(bytes.fromhex('9e107d9d372bb6826bd81d3542a419d6').decode('ascii'))"
   ]
  },
  {
   "cell_type": "code",
   "execution_count": null,
   "metadata": {},
   "outputs": [],
   "source": []
  }
 ],
 "metadata": {
  "kernelspec": {
   "display_name": "Python 3",
   "language": "python",
   "name": "python3"
  },
  "language_info": {
   "codemirror_mode": {
    "name": "ipython",
    "version": 3
   },
   "file_extension": ".py",
   "mimetype": "text/x-python",
   "name": "python",
   "nbconvert_exporter": "python",
   "pygments_lexer": "ipython3",
   "version": "3.7.3"
  }
 },
 "nbformat": 4,
 "nbformat_minor": 2
}
